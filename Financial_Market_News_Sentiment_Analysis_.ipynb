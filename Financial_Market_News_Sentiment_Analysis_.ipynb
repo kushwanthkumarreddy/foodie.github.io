{
  "nbformat": 4,
  "nbformat_minor": 0,
  "metadata": {
    "colab": {
      "provenance": [],
      "authorship_tag": "ABX9TyOYfP4tthmx2a30QNS696ky",
      "include_colab_link": true
    },
    "kernelspec": {
      "name": "python3",
      "display_name": "Python 3"
    },
    "language_info": {
      "name": "python"
    }
  },
  "cells": [
    {
      "cell_type": "markdown",
      "metadata": {
        "id": "view-in-github",
        "colab_type": "text"
      },
      "source": [
        "<a href=\"https://colab.research.google.com/github/kushwanthkumarreddy/foodie.github.io/blob/main/Financial_Market_News_Sentiment_Analysis_.ipynb\" target=\"_parent\"><img src=\"https://colab.research.google.com/assets/colab-badge.svg\" alt=\"Open In Colab\"/></a>"
      ]
    },
    {
      "cell_type": "markdown",
      "source": [
        "###**Financial Market News Sentiment Analysis****"
      ],
      "metadata": {
        "id": "Z2_0KR5wWJEF"
      }
    },
    {
      "cell_type": "code",
      "source": [
        "import pandas as pd\n"
      ],
      "metadata": {
        "id": "X686uv-7WLrg"
      },
      "execution_count": 1,
      "outputs": []
    },
    {
      "cell_type": "code",
      "source": [
        "import numpy as np"
      ],
      "metadata": {
        "id": "iDlrKK-eWcVo"
      },
      "execution_count": 2,
      "outputs": []
    },
    {
      "cell_type": "code",
      "source": [
        "df = pd.read_csv(r'https://raw.githubusercontent.com/YBI-Foundation/Dataset/main/Financial%20Market%20News.csv', encoding = \"ISO-8859-1\")"
      ],
      "metadata": {
        "id": "RiP3v1hcWmZU"
      },
      "execution_count": 4,
      "outputs": []
    },
    {
      "cell_type": "code",
      "source": [
        "df.head"
      ],
      "metadata": {
        "colab": {
          "base_uri": "https://localhost:8080/"
        },
        "id": "PobqTqMLYIrV",
        "outputId": "26b75fcc-9c9e-4700-fb16-a1fc26448a45"
      },
      "execution_count": 6,
      "outputs": [
        {
          "output_type": "execute_result",
          "data": {
            "text/plain": [
              "<bound method NDFrame.head of             Date  Label                                             News 1  \\\n",
              "0     01-01-2010      0           McIlroy's men catch cold from Gudjonsson   \n",
              "1     02-01-2010      0               Warning from history points to crash   \n",
              "2     03-01-2010      0      Comment: Why Israel's peaceniks feel betrayed   \n",
              "3     04-01-2010      1             £750,000-a-goal Weah aims parting shot   \n",
              "4     05-01-2010      1  Leeds arrive in Turkey to the silence of the fans   \n",
              "...          ...    ...                                                ...   \n",
              "4096  20-03-2021      0  Barclays and RBS shares suspended from trading...   \n",
              "4097  21-03-2021      1  2,500 Scientists To Australia: If You Want To ...   \n",
              "4098  22-03-2021      1                   Explosion At Airport In Istanbul   \n",
              "4099  23-03-2021      1  Jamaica proposes marijuana dispensers for tour...   \n",
              "4100  24-03-2021      1  A 117-year-old woman in Mexico City finally re...   \n",
              "\n",
              "                                                 News 2  \\\n",
              "0                                 Obituary: Brian Walsh   \n",
              "1                        Investors flee to dollar haven   \n",
              "2            Court deals blow to seizure of drug assets   \n",
              "3                      Newcastle pay for Fletcher years   \n",
              "4               One woman's vision offers loan lifeline   \n",
              "...                                                 ...   \n",
              "4096  Pope says Church should ask forgiveness from g...   \n",
              "4097  The personal details of 112,000 French police ...   \n",
              "4098  Yemeni former president: Terrorism is the offs...   \n",
              "4099  Stephen Hawking says pollution and 'stupidity'...   \n",
              "4100   IMF chief backs Athens as permanent Olympic host   \n",
              "\n",
              "                                                 News 3  \\\n",
              "0            Workplace blues leave employers in the red   \n",
              "1                           Banks and tobacco in favour   \n",
              "2                            An ideal target for spooks   \n",
              "3       Brown sent to the stands for Scotland qualifier   \n",
              "4               Working Lives: How world leaders worked   \n",
              "...                                                 ...   \n",
              "4096  Poland 'shocked' by xenophobic abuse of Poles ...   \n",
              "4097  S&amp;P cuts United Kingdom sovereign credit r...   \n",
              "4098  UK must accept freedom of movement to access E...   \n",
              "4099  Boris Johnson says he will not run for Tory pa...   \n",
              "4100  The president of France says if Brexit won, so...   \n",
              "\n",
              "                                                 News 4  \\\n",
              "0                              Classical review: Rattle   \n",
              "1                                 Review: Llama Farmers   \n",
              "2           World steps between two sides intent on war   \n",
              "3                  Tourists wary of breaking new ground   \n",
              "4                    Working Lives: Tricks of the trade   \n",
              "...                                                 ...   \n",
              "4096  There will be no second referendum, cabinet ag...   \n",
              "4097                Huge helium deposit found in Africa   \n",
              "4098  Devastated: scientists too late to captive bre...   \n",
              "4099  Six gay men in Ivory Coast were abused and for...   \n",
              "4100  British Man Who Must Give Police 24 Hours' Not...   \n",
              "\n",
              "                                                 News 5  \\\n",
              "0                        Dance review: Merce Cunningham   \n",
              "1                          War jitters lead to sell-off   \n",
              "2                          What the region's papers say   \n",
              "3                 Canary Wharf climbs into the FTSE 100   \n",
              "4     Working Lives: six-hour days, long lunches and...   \n",
              "...                                                 ...   \n",
              "4096      Scotland welcome to join EU, Merkel ally says   \n",
              "4097  CEO of the South African state broadcaster qui...   \n",
              "4098  British Labor Party leader Jeremy Corbyn loses...   \n",
              "4099  Switzerland denies citizenship to Muslim immig...   \n",
              "4100  100+ Nobel laureates urge Greenpeace to stop o...   \n",
              "\n",
              "                                                 News 6  \\\n",
              "0          Genetic tests to be used in setting premiums   \n",
              "1                            Your not-so-secret history   \n",
              "2                   Comment: Fear and rage in Palestine   \n",
              "3                                   Review: Bill Bailey   \n",
              "4                                Pop review: We Love UK   \n",
              "...                                                 ...   \n",
              "4096  Sterling dips below Friday's 31-year low amid ...   \n",
              "4097  Brexit cost investors $2 trillion, the worst o...   \n",
              "4098  A Muslim Shop in the UK Was Just Firebombed Wh...   \n",
              "4099  Palestinian terrorist stabs israeli teen girl ...   \n",
              "4100  Brazil: Huge spike in number of police killing...   \n",
              "\n",
              "                                                 News 7  \\\n",
              "0                               Opera review: La Bohème   \n",
              "1                         Review: The Northern Sinfonia   \n",
              "2         Poverty and resentment fuels Palestinian fury   \n",
              "3                                     Review: Classical   \n",
              "4                      World music review: Marisa Monte   \n",
              "...                                                 ...   \n",
              "4096  No negative news about South African President...   \n",
              "4097  Hong Kong democracy activists call for return ...   \n",
              "4098  Mexican Authorities Sexually Torture Women in ...   \n",
              "4099  Puerto Rico will default on $1 billion of debt...   \n",
              "4100  Austria's highest court annuls presidential el...   \n",
              "\n",
              "                                                 News 8  ...  \\\n",
              "0                            Pop review: Britney Spears  ...   \n",
              "1                                      Review: Hysteria  ...   \n",
              "2           Republican feud fear as dissident is killed  ...   \n",
              "3                       Review: New Contemporaries 2000  ...   \n",
              "4                      Art review:  Hollingsworth/Heyer  ...   \n",
              "...                                                 ...  ...   \n",
              "4096  Surge in Hate Crimes in the U.K. Following U.K...  ...   \n",
              "4097  Brexit: Iceland president says UK can join 'tr...  ...   \n",
              "4098            UK shares and pound continue to recover  ...   \n",
              "4099  Republic of Ireland fans to be awarded medal f...  ...   \n",
              "4100  Facebook wins privacy case, can track any Belg...  ...   \n",
              "\n",
              "                                                News 16  \\\n",
              "0                                 Finland 0 - 0 England   \n",
              "1                  Why Wenger will stick to his Gunners   \n",
              "2                             FTSE goes upwardly mobile   \n",
              "3                         More cash on way for counties   \n",
              "4                          Duisenberg in double trouble   \n",
              "...                                                 ...   \n",
              "4096  German lawyers to probe Erdogan over alleged w...   \n",
              "4097  US, Canada and Mexico pledge 50% of power from...   \n",
              "4098  Escape Tunnel, Dug by Hand, Is Found at Holoca...   \n",
              "4099  Googles free wifi at Indian railway stations i...   \n",
              "4100  The United States has placed Myanmar, Uzbekist...   \n",
              "\n",
              "                                                News 17  \\\n",
              "0                                    Healy a marked man   \n",
              "1                   Out of luck England hit rock bottom   \n",
              "2                              At this price?  BP Amoco   \n",
              "3                       Cairns carries Kiwis to victory   \n",
              "4                            Pru to cut pension charges   \n",
              "...                                                 ...   \n",
              "4096  Boris Johnson says the UK will continue to \"in...   \n",
              "4097  There is increasing evidence that Australia is...   \n",
              "4098  The land under Beijing is sinking by as much a...   \n",
              "4099  Mounting evidence suggests 'hobbits' were wipe...   \n",
              "4100  S&amp;P revises European Union credit rating t...   \n",
              "\n",
              "                                                News 18  \\\n",
              "0                        Happy birthday Harpers & Queen   \n",
              "1                            Wilkinson out of his depth   \n",
              "2                                               Go fish   \n",
              "3     Year of Blanchflower's flourish when Spurs sto...   \n",
              "4                               Art review: Paul Graham   \n",
              "...                                                 ...   \n",
              "4096  Richard Branson is calling on the UK governmen...   \n",
              "4097  Richard Branson, the founder of Virgin Group, ...   \n",
              "4098  Car bomb and Anti-Islamic attack on Mosque in ...   \n",
              "4099  The men who carried out Tuesday's terror attac...   \n",
              "4100  India gets $1 billion loan from World Bank for...   \n",
              "\n",
              "                                                News 19  \\\n",
              "0     Win unlimited access to the Raindance film fes...   \n",
              "1                      Kinsella sparks Irish power play   \n",
              "2            Bosnian Serb blows himself up to evade law   \n",
              "3         New direct approach brings only pay-per-blues   \n",
              "4                  Shearer shot sparks Boro humiliation   \n",
              "...                                                 ...   \n",
              "4096             Turkey 'sorry for downing Russian jet'   \n",
              "4097  37,000-yr-old skull from Borneo reveals surpri...   \n",
              "4098  Emaciated lions in Taiz Zoo are trapped in blo...   \n",
              "4099  Calls to suspend Saudi Arabia from UN Human Ri...   \n",
              "4100  U.S. sailors detained by Iran spoke too much u...   \n",
              "\n",
              "                                                News 20  \\\n",
              "0     Labour pledges £800m to bridge north-south divide   \n",
              "1                       Brown banished as Scots rebound   \n",
              "2                          Orange float delayed to 2001   \n",
              "3                              Third Division  round-up   \n",
              "4     Ridsdale's lingering fears as Leeds revisit Tu...   \n",
              "...                                                 ...   \n",
              "4096  Edward Snowden lawyer vows new push for pardon...   \n",
              "4097  Palestinians stone Western Wall worshipers; po...   \n",
              "4098  Rupert Murdoch describes Brexit as 'wonderful'...   \n",
              "4099  More Than 100 Nobel Laureates Call Out Greenpe...   \n",
              "4100  Mass fish kill in Vietnam solved as Taiwan ste...   \n",
              "\n",
              "                                                News 21  \\\n",
              "0          Wales: Lib-Lab pact firm despite resignation   \n",
              "1                      Battling Wales cling to lifeline   \n",
              "2     Angry factory workers root out fear, favours a...   \n",
              "3                             Second Division  round-up   \n",
              "4               Champions League: Rangers v Galatasaray   \n",
              "...                                                 ...   \n",
              "4096  Brexit opinion poll reveals majority don't wan...   \n",
              "4097  Jean-Claude Juncker asks Farage: Why are you h...   \n",
              "4098       More than 40 killed in Yemen suicide attacks   \n",
              "4099  British pedophile sentenced to 85 years in US ...   \n",
              "4100  Philippines president Rodrigo Duterte urges pe...   \n",
              "\n",
              "                                                News 22  \\\n",
              "0                                          Donald Dewar   \n",
              "1                     Ehiogu close to sealing Boro move   \n",
              "2                    Smith defied advice on dome payout   \n",
              "3                              First Division  round-up   \n",
              "4                     Champions League: Lazio v Arsenal   \n",
              "...                                                 ...   \n",
              "4096  Conservative MP Leave Campaigner: \"The leave c...   \n",
              "4097  \"Romanians for Remainians\" offering a new home...   \n",
              "4098  Google Found Disastrous Symantec and Norton Vu...   \n",
              "4099  US permitted 1,200 offshore fracks in Gulf of ...   \n",
              "4100  Spain arrests three Pakistanis accused of prom...   \n",
              "\n",
              "                                                News 23  \\\n",
              "0     Regenerating homes  regenerates well-being in ...   \n",
              "1                                    Man-to-man marking   \n",
              "2                           Xerox takes the axe to jobs   \n",
              "3                   McLean ends his career with a punch   \n",
              "4                                   Lazio 1 - 1 Arsenal   \n",
              "...                                                 ...   \n",
              "4096  Economists predict UK recession, further weake...   \n",
              "4097  Brexit: Gibraltar in talks with Scotland to st...   \n",
              "4098  Extremist violence on the rise in Germany: Dom...   \n",
              "4099  We will be swimming in ridicule - French beach...   \n",
              "4100  Venezuela, where anger over food shortages is ...   \n",
              "\n",
              "                                                News 24  \\\n",
              "0                           Win £100 worth of underwear   \n",
              "1                                           Match stats   \n",
              "2                          Comment: Refugees in Britain   \n",
              "3                             Heskey grabs triple crown   \n",
              "4                                   England in Pakistan   \n",
              "...                                                 ...   \n",
              "4096  New EU 'superstate plan by France, Germany: Cr...   \n",
              "4097                   8 Suicide Bombers Strike Lebanon   \n",
              "4098  BBC News: Labour MPs pass Corbyn no-confidence...   \n",
              "4099  UEFA says no minutes of silence for Istanbul v...   \n",
              "4100  A Hindu temple worker has been killed by three...   \n",
              "\n",
              "                                                News 25  \n",
              "0                                TV guide: Random views  \n",
              "1     French referee at centre of storm is no strang...  \n",
              "2                 Maverick who sparked the new intifada  \n",
              "3                      Weah on his way as City march on  \n",
              "4                  England given olive-branch reception  \n",
              "...                                                 ...  \n",
              "4096  Pakistani clerics declare transgender marriage...  \n",
              "4097  Mexico's security forces routinely use 'sexual...  \n",
              "4098  Tiny New Zealand town with 'too many jobs' lau...  \n",
              "4099  Law Enforcement Sources: Gun Used in Paris Ter...  \n",
              "4100  Ozone layer hole seems to be healing - US &amp...  \n",
              "\n",
              "[4101 rows x 27 columns]>"
            ]
          },
          "metadata": {},
          "execution_count": 6
        }
      ]
    },
    {
      "cell_type": "code",
      "source": [
        "df.info"
      ],
      "metadata": {
        "colab": {
          "base_uri": "https://localhost:8080/"
        },
        "id": "UUFUBBuHYbYq",
        "outputId": "16f4ef66-27d1-43c5-ffa1-74fd9b7523b4"
      },
      "execution_count": 7,
      "outputs": [
        {
          "output_type": "execute_result",
          "data": {
            "text/plain": [
              "<bound method DataFrame.info of             Date  Label                                             News 1  \\\n",
              "0     01-01-2010      0           McIlroy's men catch cold from Gudjonsson   \n",
              "1     02-01-2010      0               Warning from history points to crash   \n",
              "2     03-01-2010      0      Comment: Why Israel's peaceniks feel betrayed   \n",
              "3     04-01-2010      1             £750,000-a-goal Weah aims parting shot   \n",
              "4     05-01-2010      1  Leeds arrive in Turkey to the silence of the fans   \n",
              "...          ...    ...                                                ...   \n",
              "4096  20-03-2021      0  Barclays and RBS shares suspended from trading...   \n",
              "4097  21-03-2021      1  2,500 Scientists To Australia: If You Want To ...   \n",
              "4098  22-03-2021      1                   Explosion At Airport In Istanbul   \n",
              "4099  23-03-2021      1  Jamaica proposes marijuana dispensers for tour...   \n",
              "4100  24-03-2021      1  A 117-year-old woman in Mexico City finally re...   \n",
              "\n",
              "                                                 News 2  \\\n",
              "0                                 Obituary: Brian Walsh   \n",
              "1                        Investors flee to dollar haven   \n",
              "2            Court deals blow to seizure of drug assets   \n",
              "3                      Newcastle pay for Fletcher years   \n",
              "4               One woman's vision offers loan lifeline   \n",
              "...                                                 ...   \n",
              "4096  Pope says Church should ask forgiveness from g...   \n",
              "4097  The personal details of 112,000 French police ...   \n",
              "4098  Yemeni former president: Terrorism is the offs...   \n",
              "4099  Stephen Hawking says pollution and 'stupidity'...   \n",
              "4100   IMF chief backs Athens as permanent Olympic host   \n",
              "\n",
              "                                                 News 3  \\\n",
              "0            Workplace blues leave employers in the red   \n",
              "1                           Banks and tobacco in favour   \n",
              "2                            An ideal target for spooks   \n",
              "3       Brown sent to the stands for Scotland qualifier   \n",
              "4               Working Lives: How world leaders worked   \n",
              "...                                                 ...   \n",
              "4096  Poland 'shocked' by xenophobic abuse of Poles ...   \n",
              "4097  S&amp;P cuts United Kingdom sovereign credit r...   \n",
              "4098  UK must accept freedom of movement to access E...   \n",
              "4099  Boris Johnson says he will not run for Tory pa...   \n",
              "4100  The president of France says if Brexit won, so...   \n",
              "\n",
              "                                                 News 4  \\\n",
              "0                              Classical review: Rattle   \n",
              "1                                 Review: Llama Farmers   \n",
              "2           World steps between two sides intent on war   \n",
              "3                  Tourists wary of breaking new ground   \n",
              "4                    Working Lives: Tricks of the trade   \n",
              "...                                                 ...   \n",
              "4096  There will be no second referendum, cabinet ag...   \n",
              "4097                Huge helium deposit found in Africa   \n",
              "4098  Devastated: scientists too late to captive bre...   \n",
              "4099  Six gay men in Ivory Coast were abused and for...   \n",
              "4100  British Man Who Must Give Police 24 Hours' Not...   \n",
              "\n",
              "                                                 News 5  \\\n",
              "0                        Dance review: Merce Cunningham   \n",
              "1                          War jitters lead to sell-off   \n",
              "2                          What the region's papers say   \n",
              "3                 Canary Wharf climbs into the FTSE 100   \n",
              "4     Working Lives: six-hour days, long lunches and...   \n",
              "...                                                 ...   \n",
              "4096      Scotland welcome to join EU, Merkel ally says   \n",
              "4097  CEO of the South African state broadcaster qui...   \n",
              "4098  British Labor Party leader Jeremy Corbyn loses...   \n",
              "4099  Switzerland denies citizenship to Muslim immig...   \n",
              "4100  100+ Nobel laureates urge Greenpeace to stop o...   \n",
              "\n",
              "                                                 News 6  \\\n",
              "0          Genetic tests to be used in setting premiums   \n",
              "1                            Your not-so-secret history   \n",
              "2                   Comment: Fear and rage in Palestine   \n",
              "3                                   Review: Bill Bailey   \n",
              "4                                Pop review: We Love UK   \n",
              "...                                                 ...   \n",
              "4096  Sterling dips below Friday's 31-year low amid ...   \n",
              "4097  Brexit cost investors $2 trillion, the worst o...   \n",
              "4098  A Muslim Shop in the UK Was Just Firebombed Wh...   \n",
              "4099  Palestinian terrorist stabs israeli teen girl ...   \n",
              "4100  Brazil: Huge spike in number of police killing...   \n",
              "\n",
              "                                                 News 7  \\\n",
              "0                               Opera review: La Bohème   \n",
              "1                         Review: The Northern Sinfonia   \n",
              "2         Poverty and resentment fuels Palestinian fury   \n",
              "3                                     Review: Classical   \n",
              "4                      World music review: Marisa Monte   \n",
              "...                                                 ...   \n",
              "4096  No negative news about South African President...   \n",
              "4097  Hong Kong democracy activists call for return ...   \n",
              "4098  Mexican Authorities Sexually Torture Women in ...   \n",
              "4099  Puerto Rico will default on $1 billion of debt...   \n",
              "4100  Austria's highest court annuls presidential el...   \n",
              "\n",
              "                                                 News 8  ...  \\\n",
              "0                            Pop review: Britney Spears  ...   \n",
              "1                                      Review: Hysteria  ...   \n",
              "2           Republican feud fear as dissident is killed  ...   \n",
              "3                       Review: New Contemporaries 2000  ...   \n",
              "4                      Art review:  Hollingsworth/Heyer  ...   \n",
              "...                                                 ...  ...   \n",
              "4096  Surge in Hate Crimes in the U.K. Following U.K...  ...   \n",
              "4097  Brexit: Iceland president says UK can join 'tr...  ...   \n",
              "4098            UK shares and pound continue to recover  ...   \n",
              "4099  Republic of Ireland fans to be awarded medal f...  ...   \n",
              "4100  Facebook wins privacy case, can track any Belg...  ...   \n",
              "\n",
              "                                                News 16  \\\n",
              "0                                 Finland 0 - 0 England   \n",
              "1                  Why Wenger will stick to his Gunners   \n",
              "2                             FTSE goes upwardly mobile   \n",
              "3                         More cash on way for counties   \n",
              "4                          Duisenberg in double trouble   \n",
              "...                                                 ...   \n",
              "4096  German lawyers to probe Erdogan over alleged w...   \n",
              "4097  US, Canada and Mexico pledge 50% of power from...   \n",
              "4098  Escape Tunnel, Dug by Hand, Is Found at Holoca...   \n",
              "4099  Googles free wifi at Indian railway stations i...   \n",
              "4100  The United States has placed Myanmar, Uzbekist...   \n",
              "\n",
              "                                                News 17  \\\n",
              "0                                    Healy a marked man   \n",
              "1                   Out of luck England hit rock bottom   \n",
              "2                              At this price?  BP Amoco   \n",
              "3                       Cairns carries Kiwis to victory   \n",
              "4                            Pru to cut pension charges   \n",
              "...                                                 ...   \n",
              "4096  Boris Johnson says the UK will continue to \"in...   \n",
              "4097  There is increasing evidence that Australia is...   \n",
              "4098  The land under Beijing is sinking by as much a...   \n",
              "4099  Mounting evidence suggests 'hobbits' were wipe...   \n",
              "4100  S&amp;P revises European Union credit rating t...   \n",
              "\n",
              "                                                News 18  \\\n",
              "0                        Happy birthday Harpers & Queen   \n",
              "1                            Wilkinson out of his depth   \n",
              "2                                               Go fish   \n",
              "3     Year of Blanchflower's flourish when Spurs sto...   \n",
              "4                               Art review: Paul Graham   \n",
              "...                                                 ...   \n",
              "4096  Richard Branson is calling on the UK governmen...   \n",
              "4097  Richard Branson, the founder of Virgin Group, ...   \n",
              "4098  Car bomb and Anti-Islamic attack on Mosque in ...   \n",
              "4099  The men who carried out Tuesday's terror attac...   \n",
              "4100  India gets $1 billion loan from World Bank for...   \n",
              "\n",
              "                                                News 19  \\\n",
              "0     Win unlimited access to the Raindance film fes...   \n",
              "1                      Kinsella sparks Irish power play   \n",
              "2            Bosnian Serb blows himself up to evade law   \n",
              "3         New direct approach brings only pay-per-blues   \n",
              "4                  Shearer shot sparks Boro humiliation   \n",
              "...                                                 ...   \n",
              "4096             Turkey 'sorry for downing Russian jet'   \n",
              "4097  37,000-yr-old skull from Borneo reveals surpri...   \n",
              "4098  Emaciated lions in Taiz Zoo are trapped in blo...   \n",
              "4099  Calls to suspend Saudi Arabia from UN Human Ri...   \n",
              "4100  U.S. sailors detained by Iran spoke too much u...   \n",
              "\n",
              "                                                News 20  \\\n",
              "0     Labour pledges £800m to bridge north-south divide   \n",
              "1                       Brown banished as Scots rebound   \n",
              "2                          Orange float delayed to 2001   \n",
              "3                              Third Division  round-up   \n",
              "4     Ridsdale's lingering fears as Leeds revisit Tu...   \n",
              "...                                                 ...   \n",
              "4096  Edward Snowden lawyer vows new push for pardon...   \n",
              "4097  Palestinians stone Western Wall worshipers; po...   \n",
              "4098  Rupert Murdoch describes Brexit as 'wonderful'...   \n",
              "4099  More Than 100 Nobel Laureates Call Out Greenpe...   \n",
              "4100  Mass fish kill in Vietnam solved as Taiwan ste...   \n",
              "\n",
              "                                                News 21  \\\n",
              "0          Wales: Lib-Lab pact firm despite resignation   \n",
              "1                      Battling Wales cling to lifeline   \n",
              "2     Angry factory workers root out fear, favours a...   \n",
              "3                             Second Division  round-up   \n",
              "4               Champions League: Rangers v Galatasaray   \n",
              "...                                                 ...   \n",
              "4096  Brexit opinion poll reveals majority don't wan...   \n",
              "4097  Jean-Claude Juncker asks Farage: Why are you h...   \n",
              "4098       More than 40 killed in Yemen suicide attacks   \n",
              "4099  British pedophile sentenced to 85 years in US ...   \n",
              "4100  Philippines president Rodrigo Duterte urges pe...   \n",
              "\n",
              "                                                News 22  \\\n",
              "0                                          Donald Dewar   \n",
              "1                     Ehiogu close to sealing Boro move   \n",
              "2                    Smith defied advice on dome payout   \n",
              "3                              First Division  round-up   \n",
              "4                     Champions League: Lazio v Arsenal   \n",
              "...                                                 ...   \n",
              "4096  Conservative MP Leave Campaigner: \"The leave c...   \n",
              "4097  \"Romanians for Remainians\" offering a new home...   \n",
              "4098  Google Found Disastrous Symantec and Norton Vu...   \n",
              "4099  US permitted 1,200 offshore fracks in Gulf of ...   \n",
              "4100  Spain arrests three Pakistanis accused of prom...   \n",
              "\n",
              "                                                News 23  \\\n",
              "0     Regenerating homes  regenerates well-being in ...   \n",
              "1                                    Man-to-man marking   \n",
              "2                           Xerox takes the axe to jobs   \n",
              "3                   McLean ends his career with a punch   \n",
              "4                                   Lazio 1 - 1 Arsenal   \n",
              "...                                                 ...   \n",
              "4096  Economists predict UK recession, further weake...   \n",
              "4097  Brexit: Gibraltar in talks with Scotland to st...   \n",
              "4098  Extremist violence on the rise in Germany: Dom...   \n",
              "4099  We will be swimming in ridicule - French beach...   \n",
              "4100  Venezuela, where anger over food shortages is ...   \n",
              "\n",
              "                                                News 24  \\\n",
              "0                           Win £100 worth of underwear   \n",
              "1                                           Match stats   \n",
              "2                          Comment: Refugees in Britain   \n",
              "3                             Heskey grabs triple crown   \n",
              "4                                   England in Pakistan   \n",
              "...                                                 ...   \n",
              "4096  New EU 'superstate plan by France, Germany: Cr...   \n",
              "4097                   8 Suicide Bombers Strike Lebanon   \n",
              "4098  BBC News: Labour MPs pass Corbyn no-confidence...   \n",
              "4099  UEFA says no minutes of silence for Istanbul v...   \n",
              "4100  A Hindu temple worker has been killed by three...   \n",
              "\n",
              "                                                News 25  \n",
              "0                                TV guide: Random views  \n",
              "1     French referee at centre of storm is no strang...  \n",
              "2                 Maverick who sparked the new intifada  \n",
              "3                      Weah on his way as City march on  \n",
              "4                  England given olive-branch reception  \n",
              "...                                                 ...  \n",
              "4096  Pakistani clerics declare transgender marriage...  \n",
              "4097  Mexico's security forces routinely use 'sexual...  \n",
              "4098  Tiny New Zealand town with 'too many jobs' lau...  \n",
              "4099  Law Enforcement Sources: Gun Used in Paris Ter...  \n",
              "4100  Ozone layer hole seems to be healing - US &amp...  \n",
              "\n",
              "[4101 rows x 27 columns]>"
            ]
          },
          "metadata": {},
          "execution_count": 7
        }
      ]
    },
    {
      "cell_type": "code",
      "source": [
        "df.shape"
      ],
      "metadata": {
        "colab": {
          "base_uri": "https://localhost:8080/"
        },
        "id": "LVa_GtGEYmJv",
        "outputId": "77175c3d-117e-4b6b-c405-992c8f089a99"
      },
      "execution_count": 8,
      "outputs": [
        {
          "output_type": "execute_result",
          "data": {
            "text/plain": [
              "(4101, 27)"
            ]
          },
          "metadata": {},
          "execution_count": 8
        }
      ]
    },
    {
      "cell_type": "code",
      "source": [
        "df.columns"
      ],
      "metadata": {
        "colab": {
          "base_uri": "https://localhost:8080/"
        },
        "id": "RKPwOd2KYw9B",
        "outputId": "e7437998-950a-492c-d1a1-939c26836db3"
      },
      "execution_count": 9,
      "outputs": [
        {
          "output_type": "execute_result",
          "data": {
            "text/plain": [
              "Index(['Date', 'Label', 'News 1', 'News 2', 'News 3', 'News 4', 'News 5',\n",
              "       'News 6', 'News 7', 'News 8', 'News 9', 'News 10', 'News 11', 'News 12',\n",
              "       'News 13', 'News 14', 'News 15', 'News 16', 'News 17', 'News 18',\n",
              "       'News 19', 'News 20', 'News 21', 'News 22', 'News 23', 'News 24',\n",
              "       'News 25'],\n",
              "      dtype='object')"
            ]
          },
          "metadata": {},
          "execution_count": 9
        }
      ]
    },
    {
      "cell_type": "markdown",
      "source": [
        "### **Get Feature Selection**"
      ],
      "metadata": {
        "id": "KEu56wMWZVVT"
      }
    },
    {
      "cell_type": "code",
      "source": [
        "' '.join(str(x) for x in df.iloc[1,2:27])"
      ],
      "metadata": {
        "colab": {
          "base_uri": "https://localhost:8080/",
          "height": 122
        },
        "id": "-aavKCe-ZhCp",
        "outputId": "ff1a60d6-fef3-4a39-9136-6d954bef2449"
      },
      "execution_count": 10,
      "outputs": [
        {
          "output_type": "execute_result",
          "data": {
            "text/plain": [
              "\"Warning from history points to crash Investors flee to dollar haven Banks and tobacco in favour Review: Llama Farmers War jitters lead to sell-off Your not-so-secret history Review: The Northern Sinfonia Review: Hysteria Review: The Guardsman Opera: The Marriage of Figaro Review: The Turk in Italy Deutsche spells out its plans for diversification Traders' panic sends oil prices skyward TV sport chief leaves home over romance Leader: Hi-tech twitch Why Wenger will stick to his Gunners Out of luck England hit rock bottom Wilkinson out of his depth Kinsella sparks Irish power play Brown banished as Scots rebound Battling Wales cling to lifeline Ehiogu close to sealing Boro move Man-to-man marking Match stats French referee at centre of storm is no stranger to controversy\""
            ],
            "application/vnd.google.colaboratory.intrinsic+json": {
              "type": "string"
            }
          },
          "metadata": {},
          "execution_count": 10
        }
      ]
    },
    {
      "cell_type": "code",
      "source": [
        "df.index"
      ],
      "metadata": {
        "colab": {
          "base_uri": "https://localhost:8080/"
        },
        "id": "gQTGS3wGZuzJ",
        "outputId": "bf57af60-c4c2-4eef-884f-18738b60b357"
      },
      "execution_count": 11,
      "outputs": [
        {
          "output_type": "execute_result",
          "data": {
            "text/plain": [
              "RangeIndex(start=0, stop=4101, step=1)"
            ]
          },
          "metadata": {},
          "execution_count": 11
        }
      ]
    },
    {
      "cell_type": "code",
      "source": [
        "len(df.index)"
      ],
      "metadata": {
        "colab": {
          "base_uri": "https://localhost:8080/"
        },
        "id": "wYBvsDPHZyji",
        "outputId": "4978c58f-5551-4e20-de7e-133dc8cde065"
      },
      "execution_count": 12,
      "outputs": [
        {
          "output_type": "execute_result",
          "data": {
            "text/plain": [
              "4101"
            ]
          },
          "metadata": {},
          "execution_count": 12
        }
      ]
    },
    {
      "cell_type": "code",
      "source": [
        "news = []\n",
        "for row in range(0,len(df.index)):\n",
        "  news.append(' '.join(str(x) for x in df.iloc[row,2:27]))"
      ],
      "metadata": {
        "id": "BjyET1O3Z4mZ"
      },
      "execution_count": 13,
      "outputs": []
    },
    {
      "cell_type": "code",
      "source": [
        "type(news)"
      ],
      "metadata": {
        "colab": {
          "base_uri": "https://localhost:8080/"
        },
        "id": "2nDXBANBaMpG",
        "outputId": "ea17cc71-4b74-4822-8d72-67cc12b3bf2e"
      },
      "execution_count": 14,
      "outputs": [
        {
          "output_type": "execute_result",
          "data": {
            "text/plain": [
              "list"
            ]
          },
          "metadata": {},
          "execution_count": 14
        }
      ]
    },
    {
      "cell_type": "code",
      "source": [
        "news[0]"
      ],
      "metadata": {
        "colab": {
          "base_uri": "https://localhost:8080/",
          "height": 122
        },
        "id": "ZrnprE7VaP9k",
        "outputId": "65749cbc-76f3-4d3e-face-35daf52b9338"
      },
      "execution_count": 15,
      "outputs": [
        {
          "output_type": "execute_result",
          "data": {
            "text/plain": [
              "\"McIlroy's men catch cold from Gudjonsson Obituary: Brian Walsh Workplace blues leave employers in the red Classical review: Rattle Dance review: Merce Cunningham Genetic tests to be used in setting premiums Opera review: La Bohème Pop review: Britney Spears Theatre review: The Circle Wales face a fraught night Under-21  round-up Smith off to blot his copybook Finns taking the mickey Praise wasted as Brown studies injury options Ireland wary of minnows Finland 0 - 0 England Healy a marked man Happy birthday Harpers & Queen Win unlimited access to the Raindance film festival Labour pledges £800m to bridge north-south divide Wales: Lib-Lab pact firm despite resignation Donald Dewar Regenerating homes  regenerates well-being in people Win £100 worth of underwear TV guide: Random views\""
            ],
            "application/vnd.google.colaboratory.intrinsic+json": {
              "type": "string"
            }
          },
          "metadata": {},
          "execution_count": 15
        }
      ]
    },
    {
      "cell_type": "code",
      "source": [
        "x = news"
      ],
      "metadata": {
        "id": "9zRg9D7vah3t"
      },
      "execution_count": 16,
      "outputs": []
    },
    {
      "cell_type": "code",
      "source": [
        "type(x)"
      ],
      "metadata": {
        "colab": {
          "base_uri": "https://localhost:8080/"
        },
        "id": "SB1GIn0kaklt",
        "outputId": "42e5f8cc-005a-4885-8e45-95b0c35a4c79"
      },
      "execution_count": 18,
      "outputs": [
        {
          "output_type": "execute_result",
          "data": {
            "text/plain": [
              "list"
            ]
          },
          "metadata": {},
          "execution_count": 18
        }
      ]
    },
    {
      "cell_type": "markdown",
      "source": [
        "### **Get Feature Tex Conversion to Bag of words**"
      ],
      "metadata": {
        "id": "S0DjCmOdaqi9"
      }
    },
    {
      "cell_type": "code",
      "source": [
        "from sklearn.feature_extraction.text import CountVectorizer"
      ],
      "metadata": {
        "id": "qcj0nwVjaz_P"
      },
      "execution_count": 20,
      "outputs": []
    },
    {
      "cell_type": "code",
      "source": [
        "cv = CountVectorizer(lowercase = True,ngram_range = (1,1))"
      ],
      "metadata": {
        "id": "PV5CnCXzbhCK"
      },
      "execution_count": 21,
      "outputs": []
    },
    {
      "cell_type": "code",
      "source": [
        "x = cv.fit_transform(x)"
      ],
      "metadata": {
        "id": "gkOClmVlbtl_"
      },
      "execution_count": 23,
      "outputs": []
    },
    {
      "cell_type": "code",
      "source": [
        "x.shape"
      ],
      "metadata": {
        "colab": {
          "base_uri": "https://localhost:8080/"
        },
        "id": "B_ZObjm9b3Kr",
        "outputId": "e21c496d-4098-4b89-db1e-8287b3520e63"
      },
      "execution_count": 24,
      "outputs": [
        {
          "output_type": "execute_result",
          "data": {
            "text/plain": [
              "(4101, 48527)"
            ]
          },
          "metadata": {},
          "execution_count": 24
        }
      ]
    },
    {
      "cell_type": "code",
      "source": [
        "y = df['Label']"
      ],
      "metadata": {
        "id": "QOdOdGKFb74K"
      },
      "execution_count": 26,
      "outputs": []
    },
    {
      "cell_type": "code",
      "source": [
        "y.shape"
      ],
      "metadata": {
        "colab": {
          "base_uri": "https://localhost:8080/"
        },
        "id": "puD5s7UKcECV",
        "outputId": "96b50f9e-21a8-474e-d733-75ac245cba8d"
      },
      "execution_count": 27,
      "outputs": [
        {
          "output_type": "execute_result",
          "data": {
            "text/plain": [
              "(4101,)"
            ]
          },
          "metadata": {},
          "execution_count": 27
        }
      ]
    },
    {
      "cell_type": "markdown",
      "source": [
        "### **Get Train Test Split**"
      ],
      "metadata": {
        "id": "jnpXHOuEcHnj"
      }
    },
    {
      "cell_type": "code",
      "source": [
        "from sklearn.model_selection import train_test_split"
      ],
      "metadata": {
        "id": "ybEqK-Pwcs0M"
      },
      "execution_count": 28,
      "outputs": []
    },
    {
      "cell_type": "code",
      "source": [
        "x_train, x_test, y_train, y_test = train_test_split(x, y, test_size=0.3, stratify = y, random_state =2529)"
      ],
      "metadata": {
        "id": "urmZFNTsc4wG"
      },
      "execution_count": 30,
      "outputs": []
    },
    {
      "cell_type": "code",
      "source": [
        "from sklearn.ensemble import RandomForestClassifier"
      ],
      "metadata": {
        "id": "4wnuZFERdcIS"
      },
      "execution_count": 32,
      "outputs": []
    },
    {
      "cell_type": "markdown",
      "source": [
        "# Double click(or enter) to edit"
      ],
      "metadata": {
        "id": "Mr6DvU5Hd67N"
      }
    },
    {
      "cell_type": "code",
      "source": [
        "rf = RandomForestClassifier(n_estimators = 200)"
      ],
      "metadata": {
        "id": "QDr7kypGeDLb"
      },
      "execution_count": 34,
      "outputs": []
    },
    {
      "cell_type": "code",
      "source": [
        "rf.fit(x_train, y_train)"
      ],
      "metadata": {
        "colab": {
          "base_uri": "https://localhost:8080/",
          "height": 74
        },
        "id": "Xy1hiGnJeOSE",
        "outputId": "015e0781-a856-4a8f-fe25-4c4a2186a150"
      },
      "execution_count": 35,
      "outputs": [
        {
          "output_type": "execute_result",
          "data": {
            "text/plain": [
              "RandomForestClassifier(n_estimators=200)"
            ],
            "text/html": [
              "<style>#sk-container-id-1 {color: black;background-color: white;}#sk-container-id-1 pre{padding: 0;}#sk-container-id-1 div.sk-toggleable {background-color: white;}#sk-container-id-1 label.sk-toggleable__label {cursor: pointer;display: block;width: 100%;margin-bottom: 0;padding: 0.3em;box-sizing: border-box;text-align: center;}#sk-container-id-1 label.sk-toggleable__label-arrow:before {content: \"▸\";float: left;margin-right: 0.25em;color: #696969;}#sk-container-id-1 label.sk-toggleable__label-arrow:hover:before {color: black;}#sk-container-id-1 div.sk-estimator:hover label.sk-toggleable__label-arrow:before {color: black;}#sk-container-id-1 div.sk-toggleable__content {max-height: 0;max-width: 0;overflow: hidden;text-align: left;background-color: #f0f8ff;}#sk-container-id-1 div.sk-toggleable__content pre {margin: 0.2em;color: black;border-radius: 0.25em;background-color: #f0f8ff;}#sk-container-id-1 input.sk-toggleable__control:checked~div.sk-toggleable__content {max-height: 200px;max-width: 100%;overflow: auto;}#sk-container-id-1 input.sk-toggleable__control:checked~label.sk-toggleable__label-arrow:before {content: \"▾\";}#sk-container-id-1 div.sk-estimator input.sk-toggleable__control:checked~label.sk-toggleable__label {background-color: #d4ebff;}#sk-container-id-1 div.sk-label input.sk-toggleable__control:checked~label.sk-toggleable__label {background-color: #d4ebff;}#sk-container-id-1 input.sk-hidden--visually {border: 0;clip: rect(1px 1px 1px 1px);clip: rect(1px, 1px, 1px, 1px);height: 1px;margin: -1px;overflow: hidden;padding: 0;position: absolute;width: 1px;}#sk-container-id-1 div.sk-estimator {font-family: monospace;background-color: #f0f8ff;border: 1px dotted black;border-radius: 0.25em;box-sizing: border-box;margin-bottom: 0.5em;}#sk-container-id-1 div.sk-estimator:hover {background-color: #d4ebff;}#sk-container-id-1 div.sk-parallel-item::after {content: \"\";width: 100%;border-bottom: 1px solid gray;flex-grow: 1;}#sk-container-id-1 div.sk-label:hover label.sk-toggleable__label {background-color: #d4ebff;}#sk-container-id-1 div.sk-serial::before {content: \"\";position: absolute;border-left: 1px solid gray;box-sizing: border-box;top: 0;bottom: 0;left: 50%;z-index: 0;}#sk-container-id-1 div.sk-serial {display: flex;flex-direction: column;align-items: center;background-color: white;padding-right: 0.2em;padding-left: 0.2em;position: relative;}#sk-container-id-1 div.sk-item {position: relative;z-index: 1;}#sk-container-id-1 div.sk-parallel {display: flex;align-items: stretch;justify-content: center;background-color: white;position: relative;}#sk-container-id-1 div.sk-item::before, #sk-container-id-1 div.sk-parallel-item::before {content: \"\";position: absolute;border-left: 1px solid gray;box-sizing: border-box;top: 0;bottom: 0;left: 50%;z-index: -1;}#sk-container-id-1 div.sk-parallel-item {display: flex;flex-direction: column;z-index: 1;position: relative;background-color: white;}#sk-container-id-1 div.sk-parallel-item:first-child::after {align-self: flex-end;width: 50%;}#sk-container-id-1 div.sk-parallel-item:last-child::after {align-self: flex-start;width: 50%;}#sk-container-id-1 div.sk-parallel-item:only-child::after {width: 0;}#sk-container-id-1 div.sk-dashed-wrapped {border: 1px dashed gray;margin: 0 0.4em 0.5em 0.4em;box-sizing: border-box;padding-bottom: 0.4em;background-color: white;}#sk-container-id-1 div.sk-label label {font-family: monospace;font-weight: bold;display: inline-block;line-height: 1.2em;}#sk-container-id-1 div.sk-label-container {text-align: center;}#sk-container-id-1 div.sk-container {/* jupyter's `normalize.less` sets `[hidden] { display: none; }` but bootstrap.min.css set `[hidden] { display: none !important; }` so we also need the `!important` here to be able to override the default hidden behavior on the sphinx rendered scikit-learn.org. See: https://github.com/scikit-learn/scikit-learn/issues/21755 */display: inline-block !important;position: relative;}#sk-container-id-1 div.sk-text-repr-fallback {display: none;}</style><div id=\"sk-container-id-1\" class=\"sk-top-container\"><div class=\"sk-text-repr-fallback\"><pre>RandomForestClassifier(n_estimators=200)</pre><b>In a Jupyter environment, please rerun this cell to show the HTML representation or trust the notebook. <br />On GitHub, the HTML representation is unable to render, please try loading this page with nbviewer.org.</b></div><div class=\"sk-container\" hidden><div class=\"sk-item\"><div class=\"sk-estimator sk-toggleable\"><input class=\"sk-toggleable__control sk-hidden--visually\" id=\"sk-estimator-id-1\" type=\"checkbox\" checked><label for=\"sk-estimator-id-1\" class=\"sk-toggleable__label sk-toggleable__label-arrow\">RandomForestClassifier</label><div class=\"sk-toggleable__content\"><pre>RandomForestClassifier(n_estimators=200)</pre></div></div></div></div></div>"
            ]
          },
          "metadata": {},
          "execution_count": 35
        }
      ]
    },
    {
      "cell_type": "code",
      "source": [
        "y_pred = rf.predict(x_test)"
      ],
      "metadata": {
        "id": "3jp8pjmBeaHh"
      },
      "execution_count": 37,
      "outputs": []
    },
    {
      "cell_type": "code",
      "source": [
        "from sklearn.metrics import classification_report, confusion_matrix, accuracy_score"
      ],
      "metadata": {
        "id": "wgwVrnsGenL5"
      },
      "execution_count": 41,
      "outputs": []
    },
    {
      "cell_type": "code",
      "source": [
        "confusion_matrix(y_test, y_pred)"
      ],
      "metadata": {
        "colab": {
          "base_uri": "https://localhost:8080/"
        },
        "id": "CStwfpJPf4Uc",
        "outputId": "20557d55-7a45-4e13-9ea9-52942bca3c61"
      },
      "execution_count": 42,
      "outputs": [
        {
          "output_type": "execute_result",
          "data": {
            "text/plain": [
              "array([[157, 424],\n",
              "       [178, 472]])"
            ]
          },
          "metadata": {},
          "execution_count": 42
        }
      ]
    },
    {
      "cell_type": "code",
      "source": [
        "print(classification_report(y_test, y_pred))"
      ],
      "metadata": {
        "colab": {
          "base_uri": "https://localhost:8080/"
        },
        "id": "IZrhNHeigCtx",
        "outputId": "7ab93a0d-0ffb-4ad5-bfdd-9d20f9917ce7"
      },
      "execution_count": 43,
      "outputs": [
        {
          "output_type": "stream",
          "name": "stdout",
          "text": [
            "              precision    recall  f1-score   support\n",
            "\n",
            "           0       0.47      0.27      0.34       581\n",
            "           1       0.53      0.73      0.61       650\n",
            "\n",
            "    accuracy                           0.51      1231\n",
            "   macro avg       0.50      0.50      0.48      1231\n",
            "weighted avg       0.50      0.51      0.48      1231\n",
            "\n"
          ]
        }
      ]
    },
    {
      "cell_type": "code",
      "source": [
        "[30]"
      ],
      "metadata": {
        "colab": {
          "base_uri": "https://localhost:8080/"
        },
        "id": "hb2mkhP2gJz-",
        "outputId": "eecbec4f-8121-4432-e49c-22a7261f41a4"
      },
      "execution_count": 44,
      "outputs": [
        {
          "output_type": "execute_result",
          "data": {
            "text/plain": [
              "[30]"
            ]
          },
          "metadata": {},
          "execution_count": 44
        }
      ]
    }
  ]
}